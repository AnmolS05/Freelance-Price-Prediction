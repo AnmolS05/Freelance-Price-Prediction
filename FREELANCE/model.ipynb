{
 "cells": [
  {
   "cell_type": "code",
   "execution_count": 5,
   "id": "a3cfae85-510e-47ff-b495-66b09f6ee2c1",
   "metadata": {},
   "outputs": [
    {
     "name": "stdout",
     "output_type": "stream",
     "text": [
      "                           title                   skills  timeline_days  \\\n",
      "0                Build a website              HTML CSS JS              5   \n",
      "1                  Design a logo    Photoshop Illustrator              2   \n",
      "2          React app development      React Node Firebase              7   \n",
      "3               SEO optimization              SEO Content              4   \n",
      "4              Backend API setup     Node Express MongoDB              6   \n",
      "5           Mobile App UI Design            Figma AdobeXD              3   \n",
      "6             Data entry project      Excel Google Sheets              2   \n",
      "7        Build portfolio in HTML       HTML CSS Bootstrap              4   \n",
      "8   Full-stack website with auth  React Node MongoDB Auth             10   \n",
      "9     Write blog content for SEO    SEO Writing WordPress              5   \n",
      "10              Fix critical bug               React Node              1   \n",
      "\n",
      "    price  \n",
      "0    3000  \n",
      "1    1500  \n",
      "2    6500  \n",
      "3    2500  \n",
      "4    5000  \n",
      "5    2200  \n",
      "6    1200  \n",
      "7    2700  \n",
      "8    8000  \n",
      "9    2800  \n",
      "10   7000  \n",
      "\n",
      "💸 Predicted Price for 10 days: ₹2412\n"
     ]
    }
   ],
   "source": [
    "# 🔥 Import Libraries\n",
    "import pandas as pd\n",
    "from sklearn.feature_extraction.text import CountVectorizer\n",
    "from sklearn.linear_model import LinearRegression\n",
    "from scipy.sparse import hstack\n",
    "\n",
    "# 🧠 Step 1: Fake Job Data\n",
    "data = {\n",
    "    'title': [\n",
    "        'Build a website',\n",
    "        'Design a logo',\n",
    "        'React app development',\n",
    "        'SEO optimization',\n",
    "        'Backend API setup',\n",
    "        'Mobile App UI Design',\n",
    "        'Data entry project',\n",
    "        'Build portfolio in HTML',\n",
    "        'Full-stack website with auth',\n",
    "        'Write blog content for SEO',\n",
    "        'Fix critical bug'  # 👈 NEW urgent job\n",
    "    ],\n",
    "    'skills': [\n",
    "        'HTML CSS JS',\n",
    "        'Photoshop Illustrator',\n",
    "        'React Node Firebase',\n",
    "        'SEO Content',\n",
    "        'Node Express MongoDB',\n",
    "        'Figma AdobeXD',\n",
    "        'Excel Google Sheets',\n",
    "        'HTML CSS Bootstrap',\n",
    "        'React Node MongoDB Auth',\n",
    "        'SEO Writing WordPress',\n",
    "        'React Node'  # 👈 Skills for new job\n",
    "    ],\n",
    "    'timeline_days': [5, 2, 7, 4, 6, 3, 2, 4, 10, 5, 1],  # 👈 1 day\n",
    "    'price': [3000, 1500, 6500, 2500, 5000, 2200, 1200, 2700, 8000, 2800, 7000]  # 👈 high price\n",
    "}\n",
    "\n",
    "\n",
    "df = pd.DataFrame(data)\n",
    "print(df)\n",
    "# Vectorize skills\n",
    "vectorizer = CountVectorizer()\n",
    "skill_features = vectorizer.fit_transform(df['skills'])\n",
    "\n",
    "# 🧠 Multiply timeline by 100 to give it more weight\n",
    "amplified_timeline = [[-1 * t * 100] for t in df['timeline_days']]\n",
    "X = hstack([skill_features, amplified_timeline])\n",
    "\n",
    "# Train model\n",
    "model = LinearRegression()\n",
    "model.fit(X, df['price'])\n",
    "\n",
    "# 🔮 Predict\n",
    "new_skills = ['SEO Content']\n",
    "new_timeline = [10]  # test with 2, 5, 10\n",
    "\n",
    "# Apply same timeline treatment\n",
    "new_amplified = [[-1 * new_timeline[0] * 100]]\n",
    "new_skill_features = vectorizer.transform(new_skills)\n",
    "new_X = hstack([new_skill_features, new_amplified])\n",
    "\n",
    "predicted_price = model.predict(new_X)\n",
    "print(f\"\\n💸 Predicted Price for {new_timeline[0]} days: ₹{round(predicted_price[0])}\")\n",
    "\n"
   ]
  },
  {
   "cell_type": "code",
   "execution_count": 9,
   "id": "bf0bde9d-ea5a-415c-943f-b5b45824766e",
   "metadata": {},
   "outputs": [],
   "source": [
    "import pickle\n",
    "\n",
    "# Save trained model\n",
    "with open(\"model.pkl\", \"wb\") as f:\n",
    "    pickle.dump(model, f)\n",
    "\n",
    "# Save vectorizer\n",
    "with open(\"vectorizer.pkl\", \"wb\") as f:\n",
    "    pickle.dump(vectorizer, f)\n"
   ]
  },
  {
   "cell_type": "code",
   "execution_count": 13,
   "id": "ab9da95b-72cc-4097-a40b-17681aecfa5f",
   "metadata": {},
   "outputs": [],
   "source": [
    "model = pickle.load(open(\"model.pkl\", \"rb\"))\n",
    "vectorizer = pickle.load(open(\"vectorizer.pkl\", \"rb\"))\n"
   ]
  },
  {
   "cell_type": "code",
   "execution_count": null,
   "id": "70f36933-034c-4916-81f0-4110832029d9",
   "metadata": {},
   "outputs": [],
   "source": [
    "\n"
   ]
  },
  {
   "cell_type": "code",
   "execution_count": null,
   "id": "5b8e4151-fb9d-49a3-a3a4-d03cfcad04fe",
   "metadata": {},
   "outputs": [],
   "source": []
  }
 ],
 "metadata": {
  "kernelspec": {
   "display_name": "Python [conda env:base] *",
   "language": "python",
   "name": "conda-base-py"
  },
  "language_info": {
   "codemirror_mode": {
    "name": "ipython",
    "version": 3
   },
   "file_extension": ".py",
   "mimetype": "text/x-python",
   "name": "python",
   "nbconvert_exporter": "python",
   "pygments_lexer": "ipython3",
   "version": "3.12.7"
  }
 },
 "nbformat": 4,
 "nbformat_minor": 5
}
